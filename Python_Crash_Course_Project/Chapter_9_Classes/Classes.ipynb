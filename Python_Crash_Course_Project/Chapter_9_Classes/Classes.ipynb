{
 "cells": [
  {
   "cell_type": "markdown",
   "metadata": {},
   "source": [
    "### CLASSES"
   ]
  },
  {
   "cell_type": "code",
   "execution_count": 2,
   "metadata": {},
   "outputs": [
    {
     "name": "stdout",
     "output_type": "stream",
     "text": [
      "Gusto\n",
      "Chinese cuisine\n",
      "The name of the restaurant is Gusto and the type of cuisine available is Chinese cuisine\n",
      "Welcome to Gusto restaurant!\n"
     ]
    }
   ],
   "source": [
    "class Restaurant:\n",
    "    def __init__(self, restaurant_name, cuisine_type):\n",
    "        self.name = restaurant_name\n",
    "        self.cuisine = cuisine_type\n",
    "\n",
    "    def describe_restaurant(self):\n",
    "        print('The name of the restaurant is',self.name, 'and the type of cuisine available is', self.cuisine)\n",
    "\n",
    "    def open_restaurant(self):\n",
    "        print('Welcome to', self.name, 'restaurant!')\n",
    "\n",
    "restaurant = Restaurant('Gusto', 'Chinese cuisine')\n",
    "print(restaurant.name)\n",
    "print(restaurant.cuisine)\n",
    "\n",
    "restaurant.describe_restaurant()\n",
    "restaurant.open_restaurant()"
   ]
  },
  {
   "cell_type": "code",
   "execution_count": 3,
   "metadata": {},
   "outputs": [
    {
     "name": "stdout",
     "output_type": "stream",
     "text": [
      "The name of the restaurant is Cilantro and the type of cuisine available is Spanish cuisine.\n",
      "The name of the restaurant is The Vue and the type of cuisine available is African cuisine.\n",
      "The name of the restaurant is Kapadoccia and the type of cuisine available is Arabian cuisine.\n"
     ]
    }
   ],
   "source": [
    "class Restaurant:\n",
    "    def __init__(self, restaurant_name, cuisine_type):\n",
    "        self.name = restaurant_name\n",
    "        self.cuisine = cuisine_type\n",
    "        \n",
    "    def describe_restaurant(self):\n",
    "        print('The name of the restaurant is',self.name, 'and the type of cuisine available is', self.cuisine)\n",
    "\n",
    "    def open_restaurant(self):\n",
    "        print('Welcome to', self.name, 'restaurant!')\n",
    "\n",
    "restaurant = Restaurant('Cilantro', 'Spanish cuisine.')\n",
    "restaurant.describe_restaurant()\n",
    "\n",
    "restaurant = Restaurant('The Vue', 'African cuisine.')\n",
    "restaurant.describe_restaurant()\n",
    "\n",
    "restaurant = Restaurant('Kapadoccia', 'Arabian cuisine.')\n",
    "restaurant.describe_restaurant()"
   ]
  },
  {
   "cell_type": "code",
   "execution_count": 5,
   "metadata": {},
   "outputs": [
    {
     "name": "stdout",
     "output_type": "stream",
     "text": [
      "Here is the summary of the person: Aminu Nababa {'age': 19, 'marital_status': 'single', 'country': 'nigeria'}\n",
      "Dear, Aminu we are happy to welcome to the Arewa Data Science Academy!\n",
      "Here is the summary of the person: Shahida, Hamza {'age': 17, 'marital_status': 'single', 'country': 'nigeria'}\n",
      "Dear, Shahida, we are happy to welcome to the Arewa Data Science Academy!\n"
     ]
    }
   ],
   "source": [
    "class User:\n",
    "    def __init__(self, first_name, last_name, **others):\n",
    "        self.first = first_name\n",
    "        self.last = last_name\n",
    "        self.other = others\n",
    "\n",
    "    def  describe_user(self):\n",
    "        print('Here is the summary of the person:', self.first, self.last, self.other)\n",
    "\n",
    "    def greet_user(self):\n",
    "        print('Dear,', self.first, 'we are happy to welcome to the Arewa Data Science Academy!')\n",
    "\n",
    "user = User('Aminu', 'Nababa', age = 19, marital_status = 'single', country = 'nigeria')\n",
    "user.describe_user()\n",
    "user.greet_user()\n",
    "\n",
    "user = User('Shahida,', 'Hamza', age = 17, marital_status = 'single', country = 'nigeria')\n",
    "user.describe_user()\n",
    "user.greet_user()"
   ]
  },
  {
   "cell_type": "code",
   "execution_count": 6,
   "metadata": {},
   "outputs": [
    {
     "name": "stdout",
     "output_type": "stream",
     "text": [
      "The number of customers served:  0\n",
      "The number of customers served:  100\n",
      "The number of customers served:  1000\n",
      "The number of customers served:  3000\n"
     ]
    }
   ],
   "source": [
    "class Restaurant:\n",
    "    def __init__(self, restaurant_name, cuisine_type):\n",
    "        self.name = restaurant_name\n",
    "        self.cuisine = cuisine_type\n",
    "        self.number_served = 0\n",
    "\n",
    "    def describe_restaurant(self):\n",
    "        print('The name of the restaaurant is',self.name, 'and the type of cuisine available is', self.cuisine)\n",
    "\n",
    "    def open_restaurant(self):\n",
    "        print('Welcome to', self.name, 'restaurant!')\n",
    "\n",
    "    def people_served(self):\n",
    "        print('The number of customers served: ', self.number_served)\n",
    "\n",
    "    def set_number_served(self, total_served):\n",
    "        self.number_served = total_served\n",
    "\n",
    "    def increment_number_served(self, cumulative_served):\n",
    "        self.number_served += cumulative_served\n",
    "        \n",
    "restaurant = Restaurant('Sheraton', 'Indian cuisine.')\n",
    "restaurant.people_served()\n",
    "restaurant.number_served = 100\n",
    "restaurant.people_served()\n",
    "restaurant.set_number_served(1000)\n",
    "restaurant. people_served()\n",
    "restaurant.increment_number_served(2000)\n",
    "restaurant.people_served()"
   ]
  },
  {
   "cell_type": "code",
   "execution_count": 7,
   "metadata": {},
   "outputs": [
    {
     "name": "stdout",
     "output_type": "stream",
     "text": [
      "Dear, Aminu you have 1 login attempt(s)!\n",
      "Dear, Aminu you have 0 login attempt(s)!\n",
      "Dear, Shahida, you have 1 login attempt(s)!\n",
      "Dear, Shahida, you have 0 login attempt(s)!\n"
     ]
    }
   ],
   "source": [
    "class User:\n",
    "    def __init__(self, first_name, last_name, **others):\n",
    "        self.first = first_name\n",
    "        self.last = last_name\n",
    "        self.other = others\n",
    "        self.login_attempts = 0\n",
    "\n",
    "    def  describe_user(self):\n",
    "        print('Here is the summary of the person:', self.first, self.last, self.other)\n",
    "\n",
    "    def greet_user(self):\n",
    "        print('Dear,', self.first, 'we are happy to welcome to the Arewa Data Science Academy!')\n",
    "\n",
    "    def count_login_attempts (self):\n",
    "        print('Dear,', self.first, 'you have', self.login_attempts, 'login attempt(s)!')\n",
    "    \n",
    "    def increment_login_attempts (self):\n",
    "        self.login_attempts += 1\n",
    "    \n",
    "    def reset_login_attempts(self):\n",
    "         self.login_attempts -= 1\n",
    "\n",
    "\n",
    "user = User('Aminu', 'Nababa', age = 19, marital_status = 'single', country = 'nigeria')\n",
    "user.increment_login_attempts()\n",
    "user.count_login_attempts()\n",
    "user.reset_login_attempts()\n",
    "user.count_login_attempts()\n",
    "\n",
    "user = User('Shahida,', 'Hamza', age = 17, marital_status = 'single', country = 'nigeria')\n",
    "user.increment_login_attempts()\n",
    "user.count_login_attempts()\n",
    "user.reset_login_attempts()\n",
    "user.count_login_attempts()"
   ]
  },
  {
   "cell_type": "code",
   "execution_count": 8,
   "metadata": {},
   "outputs": [
    {
     "name": "stdout",
     "output_type": "stream",
     "text": [
      "This is the list of ice cream flavors avaialbe: ['vanilla', 'chocolate', 'strawberyy', 'mint']\n"
     ]
    }
   ],
   "source": [
    "class IceCreamStand (Restaurant):\n",
    "    def __init__(self, restaurant_name, cuisine_type):\n",
    "        \n",
    "        super().__init__(restaurant_name, cuisine_type)\n",
    "        self.flavors = ['vanilla', 'chocolate', 'strawberyy', 'mint' ]\n",
    "    \n",
    "    def list_of_flavors(self):\n",
    "        print('This is the list of ice cream flavors avaialbe:', self.flavors)\n",
    "    \n",
    "ice_cream_stand = IceCreamStand('Downtown', 'Jamaican cuisine')\n",
    "\n",
    "ice_cream_stand.list_of_flavors()"
   ]
  },
  {
   "cell_type": "code",
   "execution_count": 9,
   "metadata": {},
   "outputs": [
    {
     "name": "stdout",
     "output_type": "stream",
     "text": [
      "These are the adminstrators set of privileges: ['can add post', 'can delete', 'can ban user']\n"
     ]
    }
   ],
   "source": [
    "class Admin(User):\n",
    "    def __init__(self, first_name, last_name, **others):\n",
    "        super().__init__(first_name, last_name, **others)\n",
    "        self.privileges = ['can add post', 'can delete', 'can ban user']\n",
    "\n",
    "    def show_privileges(self):\n",
    "        print('These are the adminstrators set of privileges:', self.privileges)\n",
    "        \n",
    "first_admin = Admin('Aminu', 'Nababa')\n",
    "first_admin.show_privileges()"
   ]
  },
  {
   "cell_type": "code",
   "execution_count": 10,
   "metadata": {},
   "outputs": [
    {
     "name": "stdout",
     "output_type": "stream",
     "text": [
      "These are the adminstrators set of privileges: ['can add post', 'can delete', 'can ban user']\n"
     ]
    }
   ],
   "source": [
    "class Privileges:\n",
    "    def __init__(self, privileges):\n",
    "        self.privileges = ['can add post', 'can delete', 'can ban user']\n",
    "        super().__init__(self, privileges)\n",
    "        self.Privileges()\n",
    "\n",
    "\n",
    "    def show_privileges(self):\n",
    "        print('These are the adminstrators set of privileges:', self.privileges)\n",
    "\n",
    "second_admin = Admin('Aminu', 'Hamza')\n",
    "\n",
    "second_admin.show_privileges()"
   ]
  }
 ],
 "metadata": {
  "interpreter": {
   "hash": "4e880a7f5f27ad91acd9cec33fbf0d93d234c7ab08dff5f8487ebbcd75c6e380"
  },
  "kernelspec": {
   "display_name": "Python 3.10.0 64-bit",
   "language": "python",
   "name": "python3"
  },
  "language_info": {
   "codemirror_mode": {
    "name": "ipython",
    "version": 3
   },
   "file_extension": ".py",
   "mimetype": "text/x-python",
   "name": "python",
   "nbconvert_exporter": "python",
   "pygments_lexer": "ipython3",
   "version": "3.10.0"
  },
  "orig_nbformat": 4
 },
 "nbformat": 4,
 "nbformat_minor": 2
}
