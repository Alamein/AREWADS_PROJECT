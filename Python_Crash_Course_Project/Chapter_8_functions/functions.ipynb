{
 "cells": [
  {
   "attachments": {},
   "cell_type": "markdown",
   "metadata": {},
   "source": [
    "## CHAPTER 8 FUNCTIONS\n",
    "\n",
    "### FUNCTIONS ALL EXERCISES."
   ]
  },
  {
   "attachments": {},
   "cell_type": "markdown",
   "metadata": {},
   "source": [
    "Exercise 8-1."
   ]
  },
  {
   "cell_type": "code",
   "execution_count": 1,
   "metadata": {},
   "outputs": [
    {
     "name": "stdout",
     "output_type": "stream",
     "text": [
      "(message)\n",
      "In this chapter you learned how to write functions and to pass arguments so that your functions have access to the information they need to do their work.\n"
     ]
    }
   ],
   "source": [
    "def display_message():\n",
    "\n",
    "\n",
    "\tprint('''(message)\n",
    "In this chapter you learned how to write functions and to pass arguments so that your functions have access to the information they need to do their work.''')\n",
    "\n",
    "display_message()"
   ]
  },
  {
   "attachments": {},
   "cell_type": "markdown",
   "metadata": {},
   "source": [
    "Exercise 8-2."
   ]
  },
  {
   "cell_type": "code",
   "execution_count": 2,
   "metadata": {},
   "outputs": [
    {
     "name": "stdout",
     "output_type": "stream",
     "text": [
      "One of my favorite books is: The Alchemist\n"
     ]
    }
   ],
   "source": [
    "def favorite_book(title):\n",
    "    print(f'One of my favorite books is: {title.title()}')\n",
    "    \n",
    "favorite_book('THE ALCHEMIST')"
   ]
  },
  {
   "attachments": {},
   "cell_type": "markdown",
   "metadata": {},
   "source": [
    "Exercise 8-3."
   ]
  },
  {
   "cell_type": "code",
   "execution_count": 4,
   "metadata": {},
   "outputs": [
    {
     "name": "stdout",
     "output_type": "stream",
     "text": [
      "The shirt size is: \"XXL\" and the message that should be printed on the shirt is: \"The Great Engr.\". \n",
      "\n",
      "The shirt size is: \"XL\" and the message that should be printed on the shirt is: \"Alamein Nababa\". \n",
      "\n"
     ]
    }
   ],
   "source": [
    "def make_shirt(size, text_msg):\n",
    "\tprint(f'The shirt size is: {size} and the message that should be printed on the shirt is: \\\"{text_msg.title()}\\\". \\n')\n",
    "make_shirt('\\\"XXL\\\"', 'the great Engr.')\n",
    "make_shirt(size='\\\"XL\\\"', text_msg= 'Alamein Nababa')\n"
   ]
  },
  {
   "attachments": {},
   "cell_type": "markdown",
   "metadata": {},
   "source": [
    "Exercise 8-4."
   ]
  },
  {
   "cell_type": "code",
   "execution_count": 5,
   "metadata": {},
   "outputs": [
    {
     "name": "stdout",
     "output_type": "stream",
     "text": [
      "The shirt size is: \"L\" and the message that should be printed on the shirt is: \"I Love Python\". \n",
      "\n",
      "The shirt size is: \"M\" and the message that should be printed on the shirt is: \"I Love Python\". \n",
      "\n",
      "The shirt size is: \"XL\" and the message that should be printed on the shirt is: \"The Great Engr.\". \n",
      "\n"
     ]
    }
   ],
   "source": [
    "def make_shirts(text_msg, size = 'L'):\n",
    "\tprint(f'The shirt size is: \\\"{size}\\\" and the message that should be printed on the shirt is: \\\"{text_msg.title()}\\\". \\n')\n",
    "\n",
    "make_shirts(text_msg = 'I love Python')\n",
    "make_shirts(size= 'M', text_msg = 'I love Python')\n",
    "make_shirts(size= 'XL', text_msg = 'the great Engr.')"
   ]
  },
  {
   "attachments": {},
   "cell_type": "markdown",
   "metadata": {},
   "source": [
    "Exercise 8-5."
   ]
  },
  {
   "cell_type": "code",
   "execution_count": 6,
   "metadata": {},
   "outputs": [
    {
     "name": "stdout",
     "output_type": "stream",
     "text": [
      "Calfonia is in America\n",
      "Florida is in America\n",
      "New York is in America\n"
     ]
    }
   ],
   "source": [
    "def describe_city(city, country = 'America'):\n",
    "    print(f'{city} is in {country}')\n",
    "describe_city('Calfonia')\n",
    "describe_city('Florida')\n",
    "describe_city('New York')"
   ]
  },
  {
   "cell_type": "markdown",
   "metadata": {},
   "source": [
    "Exercise 8-6."
   ]
  },
  {
   "cell_type": "code",
   "execution_count": 7,
   "metadata": {},
   "outputs": [
    {
     "name": "stdout",
     "output_type": "stream",
     "text": [
      "\"Florida,  America\"\n",
      "\"Abuja,  Nigeria\"\n",
      "\"Pilodopia,  America\"\n"
     ]
    }
   ],
   "source": [
    "def city_country(city, country):\n",
    "\tfull = f'\\\"{city.title()},  {country.title()}\\\"'\n",
    "\treturn full\n",
    "print(f'''{city_country('florida', 'america')}\\n{city_country('abuja', 'nigeria')}\\n{city_country('pilodopia','america')}''')   "
   ]
  },
  {
   "attachments": {},
   "cell_type": "markdown",
   "metadata": {},
   "source": [
    "Exercise 8-7."
   ]
  },
  {
   "cell_type": "code",
   "execution_count": 8,
   "metadata": {},
   "outputs": [
    {
     "name": "stdout",
     "output_type": "stream",
     "text": [
      "{'artist': 'Bob Marley', 'album': 'Love Songs'} {'artist': 'Eminem', 'album': 'The Slim Shady Lp'} {'artist': '2Pac', 'album': 'Died In Your Arms Tonight'}\n"
     ]
    }
   ],
   "source": [
    "def make_album(artist_name, album_title):\n",
    "\tmusic_album = {'artist': artist_name.title(), 'album': album_title.title()}\n",
    "\treturn music_album\n",
    "\n",
    "musician1 = make_album('bob marley', 'love songs')\n",
    "musician2 = make_album('eminem', 'the slim shady lp')\n",
    "musician3 = make_album('2pac', 'died in your arms tonight')\n",
    "print(musician1, musician2, musician3)    "
   ]
  },
  {
   "cell_type": "code",
   "execution_count": 9,
   "metadata": {},
   "outputs": [
    {
     "name": "stdout",
     "output_type": "stream",
     "text": [
      "{'artist': 'Bob Marley', 'album': 'Love Songs', 'Number of songs': 3}\n",
      "{'artist': 'Eminem', 'album': 'The Slim Shady Lp'}\n",
      "{'artist': '2Pac', 'album': 'Died  In Your Arms Tonight', 'Number of songs': 4}\n"
     ]
    }
   ],
   "source": [
    "def make_album2(artist_name, album_title, num_song= None):\n",
    "\tmusic_album2 = {'artist': artist_name.title(), 'album': album_title.title()}\n",
    "\tif num_song:\n",
    "\t\tmusic_album2['Number of songs'] = num_song\n",
    "\treturn music_album2\n",
    "\n",
    "musician1 = make_album2('bob marley', 'love songs', 3)\n",
    "musician2 = make_album2('eminem', 'the slim shady lp')\n",
    "musician3 = make_album2('2pac', 'died  in your arms tonight', 4)\n",
    "print(f'{musician1}\\n{musician2}\\n{musician3}')   "
   ]
  },
  {
   "attachments": {},
   "cell_type": "markdown",
   "metadata": {},
   "source": [
    "Exercise 8-8."
   ]
  },
  {
   "cell_type": "code",
   "execution_count": 10,
   "metadata": {},
   "outputs": [
    {
     "name": "stdout",
     "output_type": "stream",
     "text": [
      "\n",
      " Please enter album details\n",
      "\n",
      " enter \"q\" at anytime to quit\n",
      "\n",
      " Here is the album: {'artist': 'Bob Marley', 'album': 'Love'}\n",
      "\n",
      " Please enter album details\n",
      "\n",
      " enter \"q\" at anytime to quit\n",
      "\n",
      " Here is the album: {'artist': 'Eminem', 'album': 'E'}\n",
      "\n",
      " Please enter album details\n",
      "\n",
      " enter \"q\" at anytime to quit\n"
     ]
    }
   ],
   "source": [
    "while True:\n",
    "\tprint('\\n Please enter album details')\n",
    "\tprint('\\n enter \"q\" at anytime to quit')\n",
    "\talbum_artist = input('\\nEnter the name of the artist: ')\n",
    "\tif album_artist == 'q':\n",
    "\t\tbreak\n",
    "\talbum_title = input('\\nEnter the album title')\n",
    "\tif album_title == 'q':\n",
    "\t\tbreak\n",
    "\talbum = make_album(album_artist, album_title)\n",
    "\tprint(f'\\n Here is the album: {album}')"
   ]
  },
  {
   "attachments": {},
   "cell_type": "markdown",
   "metadata": {},
   "source": [
    "Exercise 8-9."
   ]
  },
  {
   "cell_type": "code",
   "execution_count": 10,
   "metadata": {},
   "outputs": [
    {
     "name": "stdout",
     "output_type": "stream",
     "text": [
      "I love python\n",
      "Python is awesome\n",
      "Alamein is enjoying markdown\n",
      "python in jupiter is awesome\n"
     ]
    }
   ],
   "source": [
    "def show_messages(list):\n",
    "    for item in list:\n",
    "        print(item)\n",
    "messages = ['I love python', 'Python is awesome', 'Alamein is enjoying markdown', 'python in jupiter is awesome']\n",
    "show_messages(messages)"
   ]
  },
  {
   "attachments": {},
   "cell_type": "markdown",
   "metadata": {},
   "source": [
    "Exercise 8-10."
   ]
  },
  {
   "cell_type": "code",
   "execution_count": 11,
   "metadata": {},
   "outputs": [
    {
     "name": "stdout",
     "output_type": "stream",
     "text": [
      "Sending message:\tpython in jupiter is awesome\n",
      "Sending message:\tAlamein is enjoying markdown\n",
      "Sending message:\tPython is awesome\n",
      "Sending message:\tI love python\n",
      "\n",
      "*Initial: []\n",
      "\n",
      "*Final: ['python in jupiter is awesome', 'Alamein is enjoying markdown', 'Python is awesome', 'I love python']\n"
     ]
    }
   ],
   "source": [
    "messages = ['I love python', 'Python is awesome', 'Alamein is enjoying markdown', 'python in jupiter is awesome']\n",
    "sent = []\n",
    "def send_messages(message_list,sent_messages):\n",
    "    while message_list:\n",
    "        sent_message = message_list.pop()\n",
    "        print(f'Sending message:\\t{sent_message}')\n",
    "        sent_messages.append(sent_message)\n",
    "\n",
    "send_messages(messages, sent)\n",
    "print(f'\\n*Initial: {messages}\\n\\n*Final: {sent}') "
   ]
  },
  {
   "attachments": {},
   "cell_type": "markdown",
   "metadata": {},
   "source": [
    "Exercise 8-11."
   ]
  },
  {
   "cell_type": "code",
   "execution_count": 12,
   "metadata": {},
   "outputs": [
    {
     "name": "stdout",
     "output_type": "stream",
     "text": [
      "Sending message:\tpython in jupiter is awesome\n",
      "Sending message:\tAlamein is enjoying markdown\n",
      "Sending message:\tPython is awesome\n",
      "Sending message:\tI love python\n",
      "\n",
      "Initial: ['I love python', 'Python is awesome', 'Alamein is enjoying markdown', 'python in jupiter is awesome']\n",
      "Final: ['python in jupiter is awesome', 'Alamein is enjoying markdown', 'Python is awesome', 'I love python']\n"
     ]
    }
   ],
   "source": [
    "messages = ['I love python', 'Python is awesome', 'Alamein is enjoying markdown', 'python in jupiter is awesome']\n",
    "sent = []\n",
    "send_messages(messages[:],sent)\n",
    "print(f'\\nInitial: {messages}\\nFinal: {sent}')"
   ]
  },
  {
   "attachments": {},
   "cell_type": "markdown",
   "metadata": {},
   "source": [
    "Exercise 8-12.\n",
    "\n",
    "In this execise I used online recepies of sandwitch, because I don't know how to make sandwitch"
   ]
  },
  {
   "cell_type": "code",
   "execution_count": 14,
   "metadata": {},
   "outputs": [
    {
     "name": "stdout",
     "output_type": "stream",
     "text": [
      "\n",
      "Sandwich Ingredients :\n",
      "> Onion\n",
      "> Meat\n",
      "> Mayonais\n",
      "> Cabbage\n",
      "> Maggi\n",
      "\n",
      "Sandwich Ingredients :\n",
      "> Garlic\n",
      "> Fish\n",
      "> Beaf\n",
      "\n",
      "Sandwich Ingredients :\n",
      "> Horney\n"
     ]
    }
   ],
   "source": [
    "def make_sandwich(*itms):\n",
    "    print(f'\\nSandwich Ingredients :')\n",
    "    for item in itms:\n",
    "        print(f'> {item.title()}')\n",
    "make_sandwich('onion','meat','mayonais','cabbage','maggi')\n",
    "make_sandwich('garlic','fish', 'beaf')\n",
    "make_sandwich('horney')"
   ]
  },
  {
   "attachments": {},
   "cell_type": "markdown",
   "metadata": {},
   "source": [
    "Exercise 8-13.\n"
   ]
  },
  {
   "cell_type": "code",
   "execution_count": 13,
   "metadata": {},
   "outputs": [
    {
     "data": {
      "text/plain": [
       "{'age': 19,\n",
       " 'language': 'Hausa',\n",
       " 'country': 'Nigeria',\n",
       " 'first_name': 'Aminu',\n",
       " 'last_name': 'Nababa'}"
      ]
     },
     "execution_count": 13,
     "metadata": {},
     "output_type": "execute_result"
    }
   ],
   "source": [
    "def build_profile(first, last, **user_info):\n",
    "    \"\"\"Build a dictionary containing everything we know about a user.\"\"\"\n",
    "    user_info['first_name'] = first\n",
    "    user_info['last_name'] = last\n",
    "    return user_info\n",
    "build_profile('Aminu','Nababa',age=19,language='Hausa',country='Nigeria')"
   ]
  },
  {
   "attachments": {},
   "cell_type": "markdown",
   "metadata": {},
   "source": [
    "Exercise 8-14.\n"
   ]
  },
  {
   "cell_type": "code",
   "execution_count": 18,
   "metadata": {},
   "outputs": [
    {
     "name": "stdout",
     "output_type": "stream",
     "text": [
      "{'year': 2012, 'gear': '14-bg', 'manufacturer': 'toyota', 'model_name': 'yaris'}\n"
     ]
    }
   ],
   "source": [
    "def make_car(manufacturer,model_name,**car_info):\n",
    "    '''Gives information about a car'''\n",
    "    car_info['manufacturer'] = manufacturer\n",
    "    car_info['model_name'] = model_name \n",
    "    return car_info\n",
    "\n",
    "print(make_car('Toyota','Yaris',year=2012,gear='14-bg'))"
   ]
  }
 ],
 "metadata": {
  "kernelspec": {
   "display_name": "Python 3",
   "language": "python",
   "name": "python3"
  },
  "language_info": {
   "codemirror_mode": {
    "name": "ipython",
    "version": 3
   },
   "file_extension": ".py",
   "mimetype": "text/x-python",
   "name": "python",
   "nbconvert_exporter": "python",
   "pygments_lexer": "ipython3",
   "version": "3.10.0"
  },
  "orig_nbformat": 4,
  "vscode": {
   "interpreter": {
    "hash": "2f1a2eacb683bb06bd5c158a4e3bf200b129d414ee0e1c88e9c74e55ea9e8d37"
   }
  }
 },
 "nbformat": 4,
 "nbformat_minor": 2
}
